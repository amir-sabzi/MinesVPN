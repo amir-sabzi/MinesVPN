{
 "cells": [
  {
   "cell_type": "code",
   "execution_count": 3,
   "metadata": {},
   "outputs": [],
   "source": [
    "import numpy as np\n",
    "import pandas as pd\n",
    "import matplotlib.pyplot as plt\n",
    "import glob  \n",
    "import random\n",
    "import warnings\n",
    "import math \n",
    "warnings.simplefilter(action='ignore', category=FutureWarning)"
   ]
  },
  {
   "cell_type": "markdown",
   "metadata": {},
   "source": [
    "## Reading data and calculating inter-arrival times"
   ]
  },
  {
   "cell_type": "code",
   "execution_count": 16,
   "metadata": {},
   "outputs": [
    {
     "data": {
      "text/html": [
       "<div>\n",
       "<style scoped>\n",
       "    .dataframe tbody tr th:only-of-type {\n",
       "        vertical-align: middle;\n",
       "    }\n",
       "\n",
       "    .dataframe tbody tr th {\n",
       "        vertical-align: top;\n",
       "    }\n",
       "\n",
       "    .dataframe thead th {\n",
       "        text-align: right;\n",
       "    }\n",
       "</style>\n",
       "<table border=\"1\" class=\"dataframe\">\n",
       "  <thead>\n",
       "    <tr style=\"text-align: right;\">\n",
       "      <th></th>\n",
       "      <th>timestamp</th>\n",
       "      <th>seq</th>\n",
       "      <th>packet_count</th>\n",
       "    </tr>\n",
       "  </thead>\n",
       "  <tbody>\n",
       "    <tr>\n",
       "      <th>0</th>\n",
       "      <td>2118067299062</td>\n",
       "      <td>12706</td>\n",
       "      <td>8</td>\n",
       "    </tr>\n",
       "    <tr>\n",
       "      <th>1</th>\n",
       "      <td>2118067575214</td>\n",
       "      <td>12707</td>\n",
       "      <td>9</td>\n",
       "    </tr>\n",
       "    <tr>\n",
       "      <th>2</th>\n",
       "      <td>2118067575321</td>\n",
       "      <td>12708</td>\n",
       "      <td>10</td>\n",
       "    </tr>\n",
       "    <tr>\n",
       "      <th>3</th>\n",
       "      <td>2118067575427</td>\n",
       "      <td>12709</td>\n",
       "      <td>11</td>\n",
       "    </tr>\n",
       "    <tr>\n",
       "      <th>4</th>\n",
       "      <td>2118067575535</td>\n",
       "      <td>12710</td>\n",
       "      <td>12</td>\n",
       "    </tr>\n",
       "  </tbody>\n",
       "</table>\n",
       "</div>"
      ],
      "text/plain": [
       "       timestamp    seq  packet_count\n",
       "0  2118067299062  12706             8\n",
       "1  2118067575214  12707             9\n",
       "2  2118067575321  12708            10\n",
       "3  2118067575427  12709            11\n",
       "4  2118067575535  12710            12"
      ]
     },
     "execution_count": 16,
     "metadata": {},
     "output_type": "execute_result"
    }
   ],
   "source": [
    "file_path_100 = \"/home/asabzi/switch_ipg/revised_data/ts_100Mbps\"\n",
    "file_path_1000 = \"/home/asabzi/switch_ipg/revised_data/ts_1000Mbps\"\n",
    "df_100 = pd.read_csv(file_path_100,names=['dummy_1', 'timestamp', 'dummy_2', 'seq', 'dummy_3', 'packet_count'], delim_whitespace=True)\n",
    "df_1000 = pd.read_csv(file_path_1000,names=['dummy_1', 'timestamp', 'dummy_2', 'seq', 'dummy_3', 'packet_count'], delim_whitespace=True)\n",
    "df_100.drop(columns=['dummy_1', 'dummy_2', 'dummy_3'], inplace=True)\n",
    "df_1000.drop(columns=['dummy_1', 'dummy_2', 'dummy_3'], inplace=True)\n",
    "df_100.head()"
   ]
  },
  {
   "cell_type": "code",
   "execution_count": 26,
   "metadata": {},
   "outputs": [
    {
     "data": {
      "text/html": [
       "<div>\n",
       "<style scoped>\n",
       "    .dataframe tbody tr th:only-of-type {\n",
       "        vertical-align: middle;\n",
       "    }\n",
       "\n",
       "    .dataframe tbody tr th {\n",
       "        vertical-align: top;\n",
       "    }\n",
       "\n",
       "    .dataframe thead th {\n",
       "        text-align: right;\n",
       "    }\n",
       "</style>\n",
       "<table border=\"1\" class=\"dataframe\">\n",
       "  <thead>\n",
       "    <tr style=\"text-align: right;\">\n",
       "      <th></th>\n",
       "      <th>timestamp</th>\n",
       "      <th>seq</th>\n",
       "      <th>packet_count</th>\n",
       "    </tr>\n",
       "  </thead>\n",
       "  <tbody>\n",
       "    <tr>\n",
       "      <th>0</th>\n",
       "      <td>2118067299062</td>\n",
       "      <td>12706</td>\n",
       "      <td>8</td>\n",
       "    </tr>\n",
       "    <tr>\n",
       "      <th>1</th>\n",
       "      <td>2118067575214</td>\n",
       "      <td>12707</td>\n",
       "      <td>9</td>\n",
       "    </tr>\n",
       "    <tr>\n",
       "      <th>2</th>\n",
       "      <td>2118067575321</td>\n",
       "      <td>12708</td>\n",
       "      <td>10</td>\n",
       "    </tr>\n",
       "    <tr>\n",
       "      <th>3</th>\n",
       "      <td>2118067575427</td>\n",
       "      <td>12709</td>\n",
       "      <td>11</td>\n",
       "    </tr>\n",
       "    <tr>\n",
       "      <th>4</th>\n",
       "      <td>2118067575535</td>\n",
       "      <td>12710</td>\n",
       "      <td>12</td>\n",
       "    </tr>\n",
       "    <tr>\n",
       "      <th>...</th>\n",
       "      <td>...</td>\n",
       "      <td>...</td>\n",
       "      <td>...</td>\n",
       "    </tr>\n",
       "    <tr>\n",
       "      <th>4636342</th>\n",
       "      <td>2303129360737</td>\n",
       "      <td>61528</td>\n",
       "      <td>4636350</td>\n",
       "    </tr>\n",
       "    <tr>\n",
       "      <th>4636343</th>\n",
       "      <td>2303129360846</td>\n",
       "      <td>61529</td>\n",
       "      <td>4636351</td>\n",
       "    </tr>\n",
       "    <tr>\n",
       "      <th>4636344</th>\n",
       "      <td>2303129360954</td>\n",
       "      <td>61530</td>\n",
       "      <td>4636352</td>\n",
       "    </tr>\n",
       "    <tr>\n",
       "      <th>4636345</th>\n",
       "      <td>2303129361062</td>\n",
       "      <td>61531</td>\n",
       "      <td>4636353</td>\n",
       "    </tr>\n",
       "    <tr>\n",
       "      <th>4636346</th>\n",
       "      <td>2303129361167</td>\n",
       "      <td>61532</td>\n",
       "      <td>4636354</td>\n",
       "    </tr>\n",
       "  </tbody>\n",
       "</table>\n",
       "<p>4636347 rows × 3 columns</p>\n",
       "</div>"
      ],
      "text/plain": [
       "             timestamp    seq  packet_count\n",
       "0        2118067299062  12706             8\n",
       "1        2118067575214  12707             9\n",
       "2        2118067575321  12708            10\n",
       "3        2118067575427  12709            11\n",
       "4        2118067575535  12710            12\n",
       "...                ...    ...           ...\n",
       "4636342  2303129360737  61528       4636350\n",
       "4636343  2303129360846  61529       4636351\n",
       "4636344  2303129360954  61530       4636352\n",
       "4636345  2303129361062  61531       4636353\n",
       "4636346  2303129361167  61532       4636354\n",
       "\n",
       "[4636347 rows x 3 columns]"
      ]
     },
     "execution_count": 26,
     "metadata": {},
     "output_type": "execute_result"
    }
   ],
   "source": [
    "df_rtx_1_100 = df_100.iloc[:-1,:].reset_index()\n",
    "df_rtx_2_100 = df_100.iloc[1:,:].reset_index()\n",
    "df_rtx_1_1000 = df_1000.iloc[:-1,:].reset_index()\n",
    "df_rtx_2_1000 = df_1000.iloc[1:,:].reset_index()\n",
    "\n",
    "df_100_diff = df_rtx_2_100 - df_rtx_1_100\n",
    "df_1000_diff = df_rtx_2_1000 - df_rtx_1_1000\n",
    "\n",
    "df_100"
   ]
  },
  {
   "cell_type": "markdown",
   "metadata": {},
   "source": [
    "## Checking the refinement of data"
   ]
  },
  {
   "cell_type": "code",
   "execution_count": 5,
   "metadata": {},
   "outputs": [
    {
     "name": "stdout",
     "output_type": "stream",
     "text": [
      "Unique values in intervals for 100 Mbps: \n",
      "[     1 -65535]\n",
      "Unique values in intervals for 1000 Mbps: \n",
      "[     1 -65535]\n"
     ]
    }
   ],
   "source": [
    "uniques = df_100_diff['seq'].unique()\n",
    "print(\"Unique values in intervals for 100 Mbps: \" )\n",
    "print(uniques)\n",
    "\n",
    "uniques = df_1000_diff['seq'].unique()\n",
    "print(\"Unique values in intervals for 1000 Mbps: \")\n",
    "print(uniques)"
   ]
  },
  {
   "cell_type": "markdown",
   "metadata": {},
   "source": [
    "## Stats of inter-arrival times for all traffic"
   ]
  },
  {
   "cell_type": "code",
   "execution_count": 6,
   "metadata": {},
   "outputs": [
    {
     "name": "stdout",
     "output_type": "stream",
     "text": [
      "The average for intervals is: [100Mbps: 39915.499, 1Gbps: 3999.328]ns\n",
      "The std for intervals is: [100Mbps: 105427.333, 1Gbps: 10288.083]ns\n",
      "Max interval is [100Mbps: 321244.000, 1Gpbs: 39854.000]ns \n",
      "Min interval is [100Mbps: 34.000, 1Gpbs: 24.000]ns \n"
     ]
    }
   ],
   "source": [
    "#hist_100 = (df_100_diff['timestamp']).hist(bins=70)\n",
    "#hist_1000 = (df_1000_diff['timestamp']).hist(bins=70)\n",
    "print(\"The average for intervals is: [100Mbps: %.3f, 1Gbps: %.3f]ns\" % (df_100_diff['timestamp'].mean(), df_1000_diff['timestamp'].mean()))\n",
    "print(\"The std for intervals is: [100Mbps: %.3f, 1Gbps: %.3f]ns\" % (df_100_diff['timestamp'].std(), df_1000_diff['timestamp'].std()))\n",
    "\n",
    "print(\"Max interval is [100Mbps: %.3f, 1Gpbs: %.3f]ns \" % (df_100_diff['timestamp'].max(), df_1000_diff['timestamp'].max()))\n",
    "print(\"Min interval is [100Mbps: %.3f, 1Gpbs: %.3f]ns \" % (df_100_diff['timestamp'].min(), df_1000_diff['timestamp'].min()))"
   ]
  },
  {
   "cell_type": "markdown",
   "metadata": {},
   "source": [
    "## Stats of inter-arriaval times without outliers"
   ]
  },
  {
   "cell_type": "code",
   "execution_count": 7,
   "metadata": {},
   "outputs": [],
   "source": [
    "def remove_outlier(dataframe, col_name, coverage_percentage=80):\n",
    "    lower_bound = int(((100-coverage_percentage)/100)/2 * len(dataframe))\n",
    "    higher_bound = int(len(dataframe) - lower_bound)\n",
    "    df_sorted = dataframe.sort_values(by=[col_name])\n",
    "    df_subdataframe = df_sorted.iloc[lower_bound:higher_bound, :]\n",
    "    #print(\"Cover Percentage: %.3f\" % (len(df_subdataframe)/len(dataframe)) + \"%\")\n",
    "    return df_subdataframe"
   ]
  },
  {
   "cell_type": "code",
   "execution_count": 8,
   "metadata": {},
   "outputs": [
    {
     "name": "stdout",
     "output_type": "stream",
     "text": [
      "The average for intervals is: [100Mbps: 26606.225, 1Gbps: 2696.780]ns\n",
      "The std for intervals is: [100Mbps: 88025.509, 1Gbps: 8575.333]ns\n",
      "Max interval is [100Mbps: 319229.000, 1Gpbs: 31261.000]ns \n",
      "Min interval is [100Mbps: 105.000, 1Gpbs: 105.000]ns \n"
     ]
    }
   ],
   "source": [
    "df_subIntervals_100Mbps = remove_outlier(df_100_diff, 'timestamp', 90)\n",
    "df_subIntervals_1000Mbps = remove_outlier(df_1000_diff, 'timestamp', 90)\n",
    "\n",
    "#hist = (df_subIntervals_100Mbps['timestamp']).hist(bins=70)\n",
    "print(\"The average for intervals is: [100Mbps: %.3f, 1Gbps: %.3f]ns\" % (df_subIntervals_100Mbps['timestamp'].mean(), df_subIntervals_1000Mbps['timestamp'].mean()))\n",
    "print(\"The std for intervals is: [100Mbps: %.3f, 1Gbps: %.3f]ns\" % (df_subIntervals_100Mbps['timestamp'].std(), df_subIntervals_1000Mbps['timestamp'].std()))\n",
    "\n",
    "print(\"Max interval is [100Mbps: %.3f, 1Gpbs: %.3f]ns \" % (df_subIntervals_100Mbps['timestamp'].max(), df_subIntervals_1000Mbps['timestamp'].max()))\n",
    "print(\"Min interval is [100Mbps: %.3f, 1Gpbs: %.3f]ns \" % (df_subIntervals_100Mbps['timestamp'].min(), df_subIntervals_1000Mbps['timestamp'].min()))"
   ]
  },
  {
   "cell_type": "code",
   "execution_count": 9,
   "metadata": {},
   "outputs": [],
   "source": [
    "intervals_100_mean = []\n",
    "intervals_1000_mean = []\n",
    "\n",
    "intervals_100_std = []\n",
    "intervals_1000_std = []\n",
    "\n",
    "intervals_100_rates = []\n",
    "intervals_1000_rates = []\n",
    "coverages = range(10,100, 5)\n",
    "for coverage in coverages:\n",
    "    pkt_size = 512*8\n",
    "    df_subIntervals_100Mbps = remove_outlier(df_100_diff, 'timestamp', coverage)\n",
    "    df_subIntervals_1000Mbps = remove_outlier(df_1000_diff, 'timestamp', coverage)\n",
    "\n",
    "    mean_100 = df_subIntervals_100Mbps['timestamp'].mean()\n",
    "    intervals_100_mean.append(mean_100)\n",
    "    std_100 = df_subIntervals_100Mbps['timestamp'].std()\n",
    "    intervals_100_std.append(std_100)\n",
    "    intervals_100_rates.append(pkt_size/mean_100) \n",
    "\n",
    "    mean_1000 = df_subIntervals_1000Mbps['timestamp'].mean()\n",
    "    intervals_1000_mean.append(mean_1000)\n",
    "    std_1000 = df_subIntervals_1000Mbps['timestamp'].std()\n",
    "    intervals_1000_std.append(std_1000)\n",
    "    intervals_1000_rates.append(pkt_size/mean_1000) "
   ]
  },
  {
   "cell_type": "code",
   "execution_count": 10,
   "metadata": {},
   "outputs": [
    {
     "data": {
      "text/plain": [
       "[37.925925925925924,\n",
       " 37.925925925925924,\n",
       " 37.925925925925924,\n",
       " 37.950288942608445,\n",
       " 37.97554392270845,\n",
       " 37.99133761265761,\n",
       " 37.98314879745931,\n",
       " 37.963154091794586,\n",
       " 37.89672037723088,\n",
       " 37.62588193862662,\n",
       " 37.23397517762562,\n",
       " 36.7192726424859,\n",
       " 36.07779613112797,\n",
       " 34.50568320826894,\n",
       " 0.4106153638177183,\n",
       " 0.21810967050956315,\n",
       " 0.1539489346084356,\n",
       " 0.12186926314587984]"
      ]
     },
     "execution_count": 10,
     "metadata": {},
     "output_type": "execute_result"
    },
    {
     "data": {
      "image/png": "[encoded data removed]",
      "text/plain": [
       "<Figure size 432x288 with 1 Axes>"
      ]
     },
     "metadata": {
      "needs_background": "light"
     },
     "output_type": "display_data"
    },
    {
     "data": {
      "image/png": "[encoded data removed]",
      "text/plain": [
       "<Figure size 432x288 with 1 Axes>"
      ]
     },
     "metadata": {
      "needs_background": "light"
     },
     "output_type": "display_data"
    },
    {
     "data": {
      "image/png": "[encoded data removed]",
      "text/plain": [
       "<Figure size 432x288 with 1 Axes>"
      ]
     },
     "metadata": {
      "needs_background": "light"
     },
     "output_type": "display_data"
    }
   ],
   "source": [
    "fig = plt.figure()\n",
    "plt.plot(coverages, intervals_100_mean)\n",
    "plt.plot(coverages,intervals_1000_mean)\n",
    "\n",
    "\n",
    "fig = plt.figure()\n",
    "plt.plot(coverages, intervals_100_std)\n",
    "plt.plot(coverages,intervals_1000_std)\n",
    "\n",
    "fig = plt.figure()\n",
    "plt.plot(coverages, intervals_100_rates)\n",
    "plt.plot(coverages, intervals_1000_rates)\n",
    "intervals_100_rates"
   ]
  },
  {
   "cell_type": "markdown",
   "metadata": {},
   "source": [
    "## Plotting traffic pattern\n"
   ]
  },
  {
   "cell_type": "code",
   "execution_count": 76,
   "metadata": {},
   "outputs": [
    {
     "name": "stdout",
     "output_type": "stream",
     "text": [
      "18506206\n",
      "The average for windows rate are: 102.616606 Mbps\n",
      "The std for windows rate are: 562.405174 Mbps\n"
     ]
    },
    {
     "data": {
      "image/png": "[encoded data removed]",
      "text/plain": [
       "<Figure size 1440x720 with 1 Axes>"
      ]
     },
     "metadata": {
      "needs_background": "light"
     },
     "output_type": "display_data"
    }
   ],
   "source": [
    "def binarySearch(df, value):\n",
    "    lower_ind = 0\n",
    "    upper_ind = len(df)-1\n",
    "    while(not (df[upper_ind] >= value and df[upper_ind-1] <= value)):\n",
    "        middle_ind = math.floor((upper_ind + lower_ind)/2)\n",
    "        if(df[middle_ind] < value):\n",
    "            lower_ind = middle_ind + 1\n",
    "        else:\n",
    "            upper_ind = middle_ind\n",
    "    return upper_ind\n",
    "\n",
    "def RangeSampleCounter(df, lower_bound_value, upper_bound_value):\n",
    "    upper_bound_ind = binarySearch(df, upper_bound_value)\n",
    "    lower_bound_ind = binarySearch(df, lower_bound_value)\n",
    "    return upper_bound_ind - lower_bound_ind\n",
    "\n",
    "def binaryWindow(df, window_size, pkt_size):\n",
    "    samples_in_window = []\n",
    "    window_start_value = df[0]\n",
    "    window_num = math.floor((df[-1] - df[0])/window_size)\n",
    "    print(window_num)\n",
    "    for i in range(window_num):\n",
    "        window_end_value = window_start_value + window_size\n",
    "        #print(\"lower bound\" + str(window_start_value))\n",
    "        #print(\"upper boudn\" +    str(window_end_value))\n",
    "        packet_in_window_counter = RangeSampleCounter(df, window_start_value, window_end_value)\n",
    "        window_start_value = window_end_value\n",
    "        rate_Gbps = pkt_size * packet_in_window_counter / window_size\n",
    "        rate_Mbps = rate_Gbps * 1000\n",
    "        samples_in_window.append(rate_Mbps)\n",
    "        '''if (sample_in_window_counter != 0):\n",
    "            print(\"sample count: \" + str(sample_in_window_counter))'''\n",
    "        if i %1000 == 0:\n",
    "            p = (window_start_value - df[0])/(df[-1] - df[0])\n",
    "            print(\"Progress rate: %.3f\" % (p), end='\\r')\n",
    "\n",
    "    return samples_in_window\n",
    "\n",
    "\n",
    "packet_size = 512 * 8\n",
    "window_size_in_us = 10\n",
    "\n",
    "\n",
    "\n",
    "window_size = window_size_in_us * 1000 \n",
    "timestamp_array = df_100['timestamp'].tolist()\n",
    "overall_rate = packet_size * len(timestamp_array)/(timestamp_array[-1] - timestamp_array[0]) * 1000\n",
    "rate_in_window = binaryWindow(timestamp_array, window_size, packet_size)   \n",
    "fig = plt.figure(figsize=(20,10))\n",
    "plt.plot(rate_in_window,'.')\n",
    "plt.axhline(y=overall_rate, color='r', linestyle='-')\n",
    "print(\"The average for windows rate are: %f Mbps\" % (np.mean(rate_in_window)))\n",
    "print(\"The std for windows rate are: %f Mbps\" % (np.std(rate_in_window)))"
   ]
  },
  {
   "cell_type": "markdown",
   "metadata": {},
   "source": [
    "### Plotting the whole data"
   ]
  },
  {
   "cell_type": "code",
   "execution_count": null,
   "metadata": {},
   "outputs": [
    {
     "data": {
      "text/plain": [
       "0.10261678163526157"
      ]
     },
     "execution_count": 11,
     "metadata": {},
     "output_type": "execute_result"
    }
   ],
   "source": [
    "df_1000_diff['rate'] = 512 * 8 /df_1000_diff['timestamp']\n",
    "df_1000['rate'] =  df_1000['packet_count'] * 512 * 8 / (df_1000['timestamp'] - df_1000['timestamp'].min())\n",
    "avg = df_100_diff['timestamp'].mean()\n",
    "512*8/(avg)\n",
    "#df_100['packet_count'].max() * 512 * 8 / (df_100['timestamp'].max() - df_100['timestamp'].min()) "
   ]
  },
  {
   "cell_type": "code",
   "execution_count": null,
   "metadata": {},
   "outputs": [
    {
     "data": {
      "text/plain": [
       "[<matplotlib.lines.Line2D at 0x7fb9f989a490>]"
      ]
     },
     "execution_count": 28,
     "metadata": {},
     "output_type": "execute_result"
    },
    {
     "data": {
      "image/png": "[encoded data removed]",
      "text/plain": [
       "<Figure size 1440x720 with 1 Axes>"
      ]
     },
     "metadata": {
      "needs_background": "light"
     },
     "output_type": "display_data"
    }
   ],
   "source": [
    "def local_rate(df, pkt_size=512*8):\n",
    "    df_1 = df.iloc[:-1,:].reset_index()\n",
    "    df_2 = df.iloc[1:,:].reset_index()\n",
    "    df_diff = df_2 - df_1\n",
    "    df_diff['rate_in_window'] = pkt_size * df_diff['packet_count'] / df_diff['timestamp']\n",
    "    return df_diff\n",
    "\n",
    "\n",
    "    \n",
    "def traffic_pattern(dataframe, window_size):\n",
    "    df_len = len(dataframe)\n",
    "    df_downsampled = dataframe.iloc[::window_size]\n",
    "    df_ds_rates = local_rate(df_downsampled)\n",
    "    df_ds_len = len(df_ds_rates)\n",
    "    res = random.sample(range(1, df_ds_len), 30)\n",
    "    #display(df_ds_rates.loc[res])\n",
    "    return df_ds_rates\n",
    "\n",
    "    #for indx, row in dataframe.iterrows():\n",
    "    #    print(\"Progress rate: %.3f\" % (indx/df_len), end='\\r')\n",
    "df = traffic_pattern(df_100, 512)\n",
    "\n",
    "\n",
    "fig = plt.figure(figsize=(20,10))\n",
    "plt.plot(df['rate_in_window'],'.')\n"
   ]
  },
  {
   "cell_type": "code",
   "execution_count": null,
   "metadata": {},
   "outputs": [],
   "source": []
  }
 ],
 "metadata": {
  "interpreter": {
   "hash": "97cc609b13305c559618ec78a438abc56230b9381f827f22d070313b9a1f3777"
  },
  "kernelspec": {
   "display_name": "Python 3.10.2 64-bit",
   "language": "python",
   "name": "python3"
  },
  "language_info": {
   "codemirror_mode": {
    "name": "ipython",
    "version": 3
   },
   "file_extension": ".py",
   "mimetype": "text/x-python",
   "name": "python",
   "nbconvert_exporter": "python",
   "pygments_lexer": "ipython3",
   "version": "3.8.10"
  },
  "orig_nbformat": 4
 },
 "nbformat": 4,
 "nbformat_minor": 2
}
