{
 "cells": [
  {
   "cell_type": "code",
   "execution_count": 2,
   "metadata": {},
   "outputs": [],
   "source": [
    "import numpy as np\n",
    "import pandas as pd\n",
    "import matplotlib.pyplot as plt\n",
    "import glob  \n",
    "import warnings\n",
    "warnings.simplefilter(action='ignore', category=FutureWarning)"
   ]
  },
  {
   "cell_type": "code",
   "execution_count": 3,
   "metadata": {},
   "outputs": [],
   "source": [
    "file_path_100 = \"/home/asabzi/switch_ipg/ts_100Mbps\"\n",
    "file_path_1000 = \"/home/asabzi/switch_ipg/ts_1000Mbps\"\n",
    "df_100 = pd.read_csv(file_path_100,names=['dummy_1', 'timestamp', 'dummy_2', 'seq'], delim_whitespace=True)\n",
    "df_1000 = pd.read_csv(file_path_1000,names=['dummy_1', 'timestamp', 'dummy_2', 'seq'], delim_whitespace=True)\n"
   ]
  },
  {
   "cell_type": "code",
   "execution_count": 4,
   "metadata": {},
   "outputs": [],
   "source": [
    "df_100.drop(columns=['dummy_1', 'dummy_2'], inplace=True)\n",
    "df_1000.drop(columns=['dummy_1', 'dummy_2'], inplace=True)"
   ]
  },
  {
   "cell_type": "code",
   "execution_count": 5,
   "metadata": {},
   "outputs": [],
   "source": [
    "df_rtx_1_100 = df_100.iloc[:-1,:].reset_index()\n",
    "df_rtx_2_100 = df_100.iloc[1:,:].reset_index()\n",
    "df_rtx_1_1000 = df_1000.iloc[:-1,:].reset_index()\n",
    "df_rtx_2_1000 = df_1000.iloc[1:,:].reset_index()\n",
    "\n",
    "df_100_diff = df_rtx_2_100 - df_rtx_1_100\n",
    "df_1000_diff = df_rtx_2_1000 - df_rtx_1_1000\n"
   ]
  },
  {
   "cell_type": "code",
   "execution_count": 46,
   "metadata": {},
   "outputs": [
    {
     "name": "stdout",
     "output_type": "stream",
     "text": [
      "Unique values in intervals for 100 Mbps: \n",
      "[     1 -65535]\n",
      "Unique values in intervals for 1000 Mbps: \n",
      "[     1 -65535     41     25     49     21     33      5     57     37\n",
      "     17     29     39     27     65     69     13     32     61      9\n",
      "     45     43     77      3      7     35     34     73     56     23\n",
      "     26     38     28     31     30     12     72     53     22      6\n",
      "     42     59     24 -65495     40     19     10     15     11     20\n",
      "     18     71     67     47     62    129     55     81     51     46\n",
      "     89     50 -65511     16     14     63     36     75 -65499     97\n",
      " -65497     64 -65503 -65507      4      8     60      2     79    193\n",
      "     85 -65467     68     48     58     54     52 -65498     76 -65519\n",
      "     66 -65515 -65471    225     83 -65501     92     78     80     87\n",
      " -65483 -65479     44    161 -65509     94 -65491     82     70 -65487\n",
      " -65475     84    134    185 -65523 -65477 -65505 -65463    164    125\n",
      "     88 -65528 -65482    765  10944  11514   6467  14396  22237   3740\n",
      " -47459     93    128  21314    158 -15060  32769 -28188     86     74\n",
      " -24667    797    221    191    159     95 -53592 -56772  12481    964\n",
      " -65459    188 -65504    151    105     90    222    177 -65506    153\n",
      "    209 -65524     91    136     96    116 -65527    189    257  15449\n",
      "   2336  11197    705    126    961  21442   3808  15297 -65520 -36675\n",
      "    118    102     98    132   3876 -18906   8720  24581 -33246   8514\n",
      "   -535 -65474 -65449 -45877 -33180 -31196  35075   6017    121 -34591\n",
      " -65447  36323    157 -65481    254    214    169 -65532    289    165\n",
      "    293    317  18925  12640    739    545    701  19840  19999   4225\n",
      "   1981   1440  16255 -45953 -50041 -65518   8385 -40704    960  39657\n",
      "   1290   1993   4641   8800    224  15713  13666 -63455 -27384    673\n",
      "    201 -65489    101 -65455 -65485    137    195 -65517    190 -65494\n",
      "    109    286 -65521    178    192  10792    542  21759    544  13185\n",
      "   2296  16389  10722   1445   9740   1084   3749  41547 -53959   4033\n",
      "   5657  -4140  16529  35692  34820    981   1153    173  10163    729\n",
      "    288    218 -65525    351    181 -65493   2528   1917   1145    480\n",
      "  17888 -43904    669    670   9633   2368   2211  -3447   6882 -10158\n",
      "  34476  -6779 -52848  47052 -14406   1412  -2527 -60831  58692   8573\n",
      "  26848 -22936 -55098  50457  21666 -31659  10365    256   6564  -7932\n",
      "    160    127    227]\n"
     ]
    }
   ],
   "source": [
    "uniques = df_100_diff['seq'].unique()\n",
    "print(\"Unique values in intervals for 100 Mbps: \" )\n",
    "print(uniques)\n",
    "\n",
    "uniques = df_1000_diff['seq'].unique()\n",
    "print(\"Unique values in intervals for 1000 Mbps: \")\n",
    "print(uniques)"
   ]
  },
  {
   "cell_type": "code",
   "execution_count": 51,
   "metadata": {},
   "outputs": [
    {
     "name": "stdout",
     "output_type": "stream",
     "text": [
      "The average for intervals is: 4687.821899\n",
      "The std for intervals is: 38053.379250\n",
      "max interval is 327163\n",
      "min interval is 11\n"
     ]
    },
    {
     "data": {
      "image/png": "[encoded data removed]",
      "text/plain": [
       "<Figure size 432x288 with 1 Axes>"
      ]
     },
     "metadata": {
      "needs_background": "light"
     },
     "output_type": "display_data"
    }
   ],
   "source": [
    "hist = (df_100_diff['timestamp']).hist(bins=70)\n",
    "print(\"The average for intervals is: %f\" % (df_100_diff['timestamp'].mean()))\n",
    "print(\"The std for intervals is: %f\" % (df_100_diff['timestamp'].std()))\n",
    "\n",
    "print(\"max interval is \" + str(df_100_diff['timestamp'].max()))\n",
    "print(\"min interval is \" + str(df_100_diff['timestamp'].min()))"
   ]
  },
  {
   "cell_type": "code",
   "execution_count": 53,
   "metadata": {},
   "outputs": [
    {
     "data": {
      "text/html": [
       "<div>\n",
       "<style scoped>\n",
       "    .dataframe tbody tr th:only-of-type {\n",
       "        vertical-align: middle;\n",
       "    }\n",
       "\n",
       "    .dataframe tbody tr th {\n",
       "        vertical-align: top;\n",
       "    }\n",
       "\n",
       "    .dataframe thead th {\n",
       "        text-align: right;\n",
       "    }\n",
       "</style>\n",
       "<table border=\"1\" class=\"dataframe\">\n",
       "  <thead>\n",
       "    <tr style=\"text-align: right;\">\n",
       "      <th></th>\n",
       "      <th>index</th>\n",
       "      <th>timestamp</th>\n",
       "      <th>seq</th>\n",
       "    </tr>\n",
       "  </thead>\n",
       "  <tbody>\n",
       "    <tr>\n",
       "      <th>16365947</th>\n",
       "      <td>1</td>\n",
       "      <td>11</td>\n",
       "      <td>1</td>\n",
       "    </tr>\n",
       "    <tr>\n",
       "      <th>19759735</th>\n",
       "      <td>1</td>\n",
       "      <td>11</td>\n",
       "      <td>1</td>\n",
       "    </tr>\n",
       "    <tr>\n",
       "      <th>26970873</th>\n",
       "      <td>1</td>\n",
       "      <td>11</td>\n",
       "      <td>1</td>\n",
       "    </tr>\n",
       "    <tr>\n",
       "      <th>35973695</th>\n",
       "      <td>1</td>\n",
       "      <td>11</td>\n",
       "      <td>1</td>\n",
       "    </tr>\n",
       "    <tr>\n",
       "      <th>28614734</th>\n",
       "      <td>1</td>\n",
       "      <td>11</td>\n",
       "      <td>1</td>\n",
       "    </tr>\n",
       "  </tbody>\n",
       "</table>\n",
       "</div>"
      ],
      "text/plain": [
       "          index  timestamp  seq\n",
       "16365947      1         11    1\n",
       "19759735      1         11    1\n",
       "26970873      1         11    1\n",
       "35973695      1         11    1\n",
       "28614734      1         11    1"
      ]
     },
     "metadata": {},
     "output_type": "display_data"
    },
    {
     "name": "stdout",
     "output_type": "stream",
     "text": [
      "3925253\n",
      "35327286\n",
      "0.8000000458569062\n"
     ]
    }
   ],
   "source": [
    "coverage_percentage = 80\n",
    "intervals = df_100_diff\n",
    "lower_bound = int(((100-coverage_percentage)/100)/2 * len(intervals))\n",
    "higher_bound = int(len(intervals) - lower_bound)\n",
    "df_sorted_interals_100Mbps = intervals.sort_values(by=['timestamp'])\n",
    "display(df_sorted_interals_100Mbps.head())\n",
    "print(lower_bound)\n",
    "print(higher_bound)\n",
    "df_subIntervals_100Mbps = df_sorted_interals_100Mbps.iloc[lower_bound:higher_bound, :]\n",
    "#print(len(intervals))\n",
    "print(len(df_subIntervals_100Mbps)/len(intervals))"
   ]
  },
  {
   "cell_type": "code",
   "execution_count": 54,
   "metadata": {},
   "outputs": [
    {
     "name": "stdout",
     "output_type": "stream",
     "text": [
      "The average for intervals is: 25.525758\n",
      "The std for intervals is: 7.569014\n",
      "max interval is 72\n",
      "min interval is 17\n"
     ]
    },
    {
     "data": {
      "image/png": "[encoded data removed]",
      "text/plain": [
       "<Figure size 432x288 with 1 Axes>"
      ]
     },
     "metadata": {
      "needs_background": "light"
     },
     "output_type": "display_data"
    }
   ],
   "source": [
    "hist = (df_subIntervals_100Mbps['timestamp']).hist(bins=70)\n",
    "print(\"The average for intervals is: %f\" % (df_subIntervals_100Mbps['timestamp'].mean()))\n",
    "print(\"The std for intervals is: %f\" % (df_subIntervals_100Mbps['timestamp'].std()))\n",
    "\n",
    "print(\"max interval is \" + str(df_subIntervals_100Mbps['timestamp'].max()))\n",
    "print(\"min interval is \" + str(df_subIntervals_100Mbps['timestamp'].min()))"
   ]
  },
  {
   "cell_type": "code",
   "execution_count": null,
   "metadata": {},
   "outputs": [],
   "source": []
  }
 ],
 "metadata": {
  "interpreter": {
   "hash": "97cc609b13305c559618ec78a438abc56230b9381f827f22d070313b9a1f3777"
  },
  "kernelspec": {
   "display_name": "Python 3.10.2 64-bit",
   "language": "python",
   "name": "python3"
  },
  "language_info": {
   "codemirror_mode": {
    "name": "ipython",
    "version": 3
   },
   "file_extension": ".py",
   "mimetype": "text/x-python",
   "name": "python",
   "nbconvert_exporter": "python",
   "pygments_lexer": "ipython3",
   "version": "3.8.10"
  },
  "orig_nbformat": 4
 },
 "nbformat": 4,
 "nbformat_minor": 2
}
