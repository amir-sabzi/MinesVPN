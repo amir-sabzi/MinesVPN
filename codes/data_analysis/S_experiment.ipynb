{
 "cells": [
  {
   "cell_type": "code",
   "execution_count": 33,
   "metadata": {},
   "outputs": [],
   "source": [
    "import numpy as np\n",
    "import pandas as pd\n",
    "import matplotlib.pyplot as plt\n",
    "import glob  \n",
    "import random\n",
    "import warnings\n",
    "warnings.simplefilter(action='ignore', category=FutureWarning)"
   ]
  },
  {
   "cell_type": "markdown",
   "metadata": {},
   "source": [
    "## Reading data and calculating inter-arrival times"
   ]
  },
  {
   "cell_type": "code",
   "execution_count": 3,
   "metadata": {},
   "outputs": [],
   "source": [
    "file_path_100 = \"/home/asabzi/switch_ipg/revised_data/ts_100Mbps\"\n",
    "file_path_1000 = \"/home/asabzi/switch_ipg/revised_data/ts_1000Mbps\"\n",
    "df_100 = pd.read_csv(file_path_100,names=['dummy_1', 'timestamp', 'dummy_2', 'seq', 'dummy_3', 'packet_count'], delim_whitespace=True)\n",
    "df_1000 = pd.read_csv(file_path_1000,names=['dummy_1', 'timestamp', 'dummy_2', 'seq', 'dummy_3', 'packet_count'], delim_whitespace=True)\n",
    "df_100.drop(columns=['dummy_1', 'dummy_2', 'dummy_3'], inplace=True)\n",
    "df_1000.drop(columns=['dummy_1', 'dummy_2', 'dummy_3'], inplace=True)"
   ]
  },
  {
   "cell_type": "code",
   "execution_count": 4,
   "metadata": {},
   "outputs": [],
   "source": [
    "df_rtx_1_100 = df_100.iloc[:-1,:].reset_index()\n",
    "df_rtx_2_100 = df_100.iloc[1:,:].reset_index()\n",
    "df_rtx_1_1000 = df_1000.iloc[:-1,:].reset_index()\n",
    "df_rtx_2_1000 = df_1000.iloc[1:,:].reset_index()\n",
    "\n",
    "df_100_diff = df_rtx_2_100 - df_rtx_1_100\n",
    "df_1000_diff = df_rtx_2_1000 - df_rtx_1_1000\n"
   ]
  },
  {
   "cell_type": "markdown",
   "metadata": {},
   "source": [
    "## Checking the refinement of data"
   ]
  },
  {
   "cell_type": "code",
   "execution_count": 10,
   "metadata": {},
   "outputs": [
    {
     "name": "stdout",
     "output_type": "stream",
     "text": [
      "Unique values in intervals for 100 Mbps: \n",
      "[     1 -65535]\n",
      "Unique values in intervals for 1000 Mbps: \n",
      "[     1 -65535]\n"
     ]
    }
   ],
   "source": [
    "uniques = df_100_diff['seq'].unique()\n",
    "print(\"Unique values in intervals for 100 Mbps: \" )\n",
    "print(uniques)\n",
    "\n",
    "uniques = df_1000_diff['seq'].unique()\n",
    "print(\"Unique values in intervals for 1000 Mbps: \")\n",
    "print(uniques)"
   ]
  },
  {
   "cell_type": "markdown",
   "metadata": {},
   "source": [
    "## Stats of inter-arrival times for all traffic"
   ]
  },
  {
   "cell_type": "code",
   "execution_count": 15,
   "metadata": {},
   "outputs": [
    {
     "name": "stdout",
     "output_type": "stream",
     "text": [
      "The average for intervals is: [100Mbps: 39915.499, 1Gbps: 3999.328]ns\n",
      "The std for intervals is: [100Mbps: 105427.333, 1Gbps: 10288.083]ns\n",
      "Max interval is [100Mbps: 321244.000, 1Gpbs: 39854.000]ns \n",
      "Min interval is [100Mbps: 34.000, 1Gpbs: 24.000]ns \n"
     ]
    }
   ],
   "source": [
    "#hist_100 = (df_100_diff['timestamp']).hist(bins=70)\n",
    "#hist_1000 = (df_1000_diff['timestamp']).hist(bins=70)\n",
    "print(\"The average for intervals is: [100Mbps: %.3f, 1Gbps: %.3f]ns\" % (df_100_diff['timestamp'].mean(), df_1000_diff['timestamp'].mean()))\n",
    "print(\"The std for intervals is: [100Mbps: %.3f, 1Gbps: %.3f]ns\" % (df_100_diff['timestamp'].std(), df_1000_diff['timestamp'].std()))\n",
    "\n",
    "print(\"Max interval is [100Mbps: %.3f, 1Gpbs: %.3f]ns \" % (df_100_diff['timestamp'].max(), df_1000_diff['timestamp'].max()))\n",
    "print(\"Min interval is [100Mbps: %.3f, 1Gpbs: %.3f]ns \" % (df_100_diff['timestamp'].min(), df_1000_diff['timestamp'].min()))"
   ]
  },
  {
   "cell_type": "markdown",
   "metadata": {},
   "source": [
    "## Stats of inter-arriaval times without outliers"
   ]
  },
  {
   "cell_type": "code",
   "execution_count": 56,
   "metadata": {},
   "outputs": [],
   "source": [
    "def remove_outlier(dataframe, col_name, coverage_percentage=80):\n",
    "    lower_bound = int(((100-coverage_percentage)/100)/2 * len(dataframe))\n",
    "    higher_bound = int(len(dataframe) - lower_bound)\n",
    "    df_sorted = dataframe.sort_values(by=[col_name])\n",
    "    df_subdataframe = df_sorted.iloc[lower_bound:higher_bound, :]\n",
    "    #print(\"Cover Percentage: %.3f\" % (len(df_subdataframe)/len(dataframe)) + \"%\")\n",
    "    return df_subdataframe"
   ]
  },
  {
   "cell_type": "code",
   "execution_count": 29,
   "metadata": {},
   "outputs": [
    {
     "name": "stdout",
     "output_type": "stream",
     "text": [
      "Cover Percentage: 0.900%\n",
      "Cover Percentage: 0.900%\n",
      "The average for intervals is: [100Mbps: 26606.225, 1Gbps: 2696.780]ns\n",
      "The std for intervals is: [100Mbps: 88025.509, 1Gbps: 8575.333]ns\n",
      "Max interval is [100Mbps: 319229.000, 1Gpbs: 31261.000]ns \n",
      "Min interval is [100Mbps: 105.000, 1Gpbs: 105.000]ns \n"
     ]
    }
   ],
   "source": [
    "df_subIntervals_100Mbps = remove_outlier(df_100_diff, 'timestamp', 90)\n",
    "df_subIntervals_1000Mbps = remove_outlier(df_1000_diff, 'timestamp', 90)\n",
    "\n",
    "#hist = (df_subIntervals_100Mbps['timestamp']).hist(bins=70)\n",
    "print(\"The average for intervals is: [100Mbps: %.3f, 1Gbps: %.3f]ns\" % (df_subIntervals_100Mbps['timestamp'].mean(), df_subIntervals_1000Mbps['timestamp'].mean()))\n",
    "print(\"The std for intervals is: [100Mbps: %.3f, 1Gbps: %.3f]ns\" % (df_subIntervals_100Mbps['timestamp'].std(), df_subIntervals_1000Mbps['timestamp'].std()))\n",
    "\n",
    "print(\"Max interval is [100Mbps: %.3f, 1Gpbs: %.3f]ns \" % (df_subIntervals_100Mbps['timestamp'].max(), df_subIntervals_1000Mbps['timestamp'].max()))\n",
    "print(\"Min interval is [100Mbps: %.3f, 1Gpbs: %.3f]ns \" % (df_subIntervals_100Mbps['timestamp'].min(), df_subIntervals_1000Mbps['timestamp'].min()))"
   ]
  },
  {
   "cell_type": "code",
   "execution_count": 57,
   "metadata": {},
   "outputs": [],
   "source": [
    "intervals_100_mean = []\n",
    "intervals_1000_mean = []\n",
    "\n",
    "intervals_100_std = []\n",
    "intervals_1000_std = []\n",
    "\n",
    "intervals_100_rates = []\n",
    "intervals_1000_rates = []\n",
    "coverages = range(10,100, 5)\n",
    "for coverage in coverages:\n",
    "    pkt_size = 512*8\n",
    "    df_subIntervals_100Mbps = remove_outlier(df_100_diff, 'timestamp', coverage)\n",
    "    df_subIntervals_1000Mbps = remove_outlier(df_1000_diff, 'timestamp', coverage)\n",
    "\n",
    "    mean_100 = df_subIntervals_100Mbps['timestamp'].mean()\n",
    "    intervals_100_mean.append(mean_100)\n",
    "    std_100 = df_subIntervals_100Mbps['timestamp'].std()\n",
    "    intervals_100_std.append(std_100)\n",
    "    intervals_100_rates.append(pkt_size/mean_100) \n",
    "\n",
    "    mean_1000 = df_subIntervals_1000Mbps['timestamp'].mean()\n",
    "    intervals_1000_mean.append(mean_1000)\n",
    "    std_1000 = df_subIntervals_1000Mbps['timestamp'].std()\n",
    "    intervals_1000_std.append(std_1000)\n",
    "    intervals_1000_rates.append(pkt_size/mean_1000) "
   ]
  },
  {
   "cell_type": "code",
   "execution_count": 64,
   "metadata": {},
   "outputs": [
    {
     "data": {
      "text/plain": [
       "[37.925925925925924,\n",
       " 37.925925925925924,\n",
       " 37.925925925925924,\n",
       " 37.950288942608445,\n",
       " 37.97554392270845,\n",
       " 37.99133761265761,\n",
       " 37.98314879745931,\n",
       " 37.963154091794586,\n",
       " 37.89672037723088,\n",
       " 37.62588193862662,\n",
       " 37.23397517762562,\n",
       " 36.7192726424859,\n",
       " 36.07779613112797,\n",
       " 34.50568320826894,\n",
       " 0.4106153638177183,\n",
       " 0.21810967050956315,\n",
       " 0.1539489346084356,\n",
       " 0.12186926314587984]"
      ]
     },
     "execution_count": 64,
     "metadata": {},
     "output_type": "execute_result"
    },
    {
     "data": {
      "image/png": "[encoded data removed]",
      "text/plain": [
       "<Figure size 432x288 with 1 Axes>"
      ]
     },
     "metadata": {
      "needs_background": "light"
     },
     "output_type": "display_data"
    },
    {
     "data": {
      "image/png": "[encoded data removed]",
      "text/plain": [
       "<Figure size 432x288 with 1 Axes>"
      ]
     },
     "metadata": {
      "needs_background": "light"
     },
     "output_type": "display_data"
    },
    {
     "data": {
      "image/png": "[encoded data removed]",
      "text/plain": [
       "<Figure size 432x288 with 1 Axes>"
      ]
     },
     "metadata": {
      "needs_background": "light"
     },
     "output_type": "display_data"
    }
   ],
   "source": [
    "fig = plt.figure()\n",
    "plt.plot(coverages, intervals_100_mean)\n",
    "plt.plot(coverages,intervals_1000_mean)\n",
    "\n",
    "\n",
    "fig = plt.figure()\n",
    "plt.plot(coverages, intervals_100_std)\n",
    "plt.plot(coverages,intervals_1000_std)\n",
    "\n",
    "fig = plt.figure()\n",
    "plt.plot(coverages, intervals_100_rates)\n",
    "plt.plot(coverages, intervals_1000_rates)\n",
    "intervals_100_rates"
   ]
  },
  {
   "cell_type": "markdown",
   "metadata": {},
   "source": [
    "## Plotting traffic pattern\n"
   ]
  },
  {
   "cell_type": "markdown",
   "metadata": {},
   "source": [
    "### Plotting the whole data"
   ]
  },
  {
   "cell_type": "code",
   "execution_count": 62,
   "metadata": {},
   "outputs": [
    {
     "data": {
      "text/plain": [
       "0.10261678163526157"
      ]
     },
     "execution_count": 62,
     "metadata": {},
     "output_type": "execute_result"
    }
   ],
   "source": [
    "df_1000_diff['rate'] = 512 * 8 /df_1000_diff['timestamp']\n",
    "df_1000['rate'] =  df_1000['packet_count'] * 512 * 8 / (df_1000['timestamp'] - df_1000['timestamp'].min())\n",
    "avg = df_100_diff['timestamp'].mean()\n",
    "512*8/(avg)\n",
    "#df_100['packet_count'].max() * 512 * 8 / (df_100['timestamp'].max() - df_100['timestamp'].min()) "
   ]
  },
  {
   "cell_type": "code",
   "execution_count": 69,
   "metadata": {},
   "outputs": [
    {
     "data": {
      "text/html": [
       "<div>\n",
       "<style scoped>\n",
       "    .dataframe tbody tr th:only-of-type {\n",
       "        vertical-align: middle;\n",
       "    }\n",
       "\n",
       "    .dataframe tbody tr th {\n",
       "        vertical-align: top;\n",
       "    }\n",
       "\n",
       "    .dataframe thead th {\n",
       "        text-align: right;\n",
       "    }\n",
       "</style>\n",
       "<table border=\"1\" class=\"dataframe\">\n",
       "  <thead>\n",
       "    <tr style=\"text-align: right;\">\n",
       "      <th></th>\n",
       "      <th>index</th>\n",
       "      <th>timestamp</th>\n",
       "      <th>seq</th>\n",
       "      <th>packet_count</th>\n",
       "      <th>rate_in_window</th>\n",
       "    </tr>\n",
       "  </thead>\n",
       "  <tbody>\n",
       "    <tr>\n",
       "      <th>230067</th>\n",
       "      <td>10</td>\n",
       "      <td>320285</td>\n",
       "      <td>10</td>\n",
       "      <td>10</td>\n",
       "      <td>0.127886</td>\n",
       "    </tr>\n",
       "    <tr>\n",
       "      <th>132733</th>\n",
       "      <td>10</td>\n",
       "      <td>320407</td>\n",
       "      <td>10</td>\n",
       "      <td>10</td>\n",
       "      <td>0.127837</td>\n",
       "    </tr>\n",
       "    <tr>\n",
       "      <th>148176</th>\n",
       "      <td>10</td>\n",
       "      <td>320227</td>\n",
       "      <td>10</td>\n",
       "      <td>10</td>\n",
       "      <td>0.127909</td>\n",
       "    </tr>\n",
       "    <tr>\n",
       "      <th>462360</th>\n",
       "      <td>10</td>\n",
       "      <td>320204</td>\n",
       "      <td>10</td>\n",
       "      <td>10</td>\n",
       "      <td>0.127918</td>\n",
       "    </tr>\n",
       "    <tr>\n",
       "      <th>167452</th>\n",
       "      <td>10</td>\n",
       "      <td>320237</td>\n",
       "      <td>10</td>\n",
       "      <td>10</td>\n",
       "      <td>0.127905</td>\n",
       "    </tr>\n",
       "    <tr>\n",
       "      <th>213200</th>\n",
       "      <td>10</td>\n",
       "      <td>320400</td>\n",
       "      <td>10</td>\n",
       "      <td>10</td>\n",
       "      <td>0.127840</td>\n",
       "    </tr>\n",
       "    <tr>\n",
       "      <th>434605</th>\n",
       "      <td>10</td>\n",
       "      <td>321510</td>\n",
       "      <td>10</td>\n",
       "      <td>10</td>\n",
       "      <td>0.127399</td>\n",
       "    </tr>\n",
       "    <tr>\n",
       "      <th>160681</th>\n",
       "      <td>10</td>\n",
       "      <td>320364</td>\n",
       "      <td>10</td>\n",
       "      <td>10</td>\n",
       "      <td>0.127855</td>\n",
       "    </tr>\n",
       "    <tr>\n",
       "      <th>398763</th>\n",
       "      <td>10</td>\n",
       "      <td>320254</td>\n",
       "      <td>10</td>\n",
       "      <td>10</td>\n",
       "      <td>0.127898</td>\n",
       "    </tr>\n",
       "    <tr>\n",
       "      <th>414190</th>\n",
       "      <td>10</td>\n",
       "      <td>639406</td>\n",
       "      <td>10</td>\n",
       "      <td>10</td>\n",
       "      <td>0.064059</td>\n",
       "    </tr>\n",
       "    <tr>\n",
       "      <th>175875</th>\n",
       "      <td>10</td>\n",
       "      <td>320257</td>\n",
       "      <td>10</td>\n",
       "      <td>10</td>\n",
       "      <td>0.127897</td>\n",
       "    </tr>\n",
       "    <tr>\n",
       "      <th>173268</th>\n",
       "      <td>10</td>\n",
       "      <td>320210</td>\n",
       "      <td>10</td>\n",
       "      <td>10</td>\n",
       "      <td>0.127916</td>\n",
       "    </tr>\n",
       "    <tr>\n",
       "      <th>41646</th>\n",
       "      <td>10</td>\n",
       "      <td>320313</td>\n",
       "      <td>10</td>\n",
       "      <td>10</td>\n",
       "      <td>0.127875</td>\n",
       "    </tr>\n",
       "    <tr>\n",
       "      <th>301922</th>\n",
       "      <td>10</td>\n",
       "      <td>639380</td>\n",
       "      <td>10</td>\n",
       "      <td>10</td>\n",
       "      <td>0.064062</td>\n",
       "    </tr>\n",
       "    <tr>\n",
       "      <th>413634</th>\n",
       "      <td>10</td>\n",
       "      <td>320267</td>\n",
       "      <td>10</td>\n",
       "      <td>10</td>\n",
       "      <td>0.127893</td>\n",
       "    </tr>\n",
       "    <tr>\n",
       "      <th>91052</th>\n",
       "      <td>10</td>\n",
       "      <td>320251</td>\n",
       "      <td>10</td>\n",
       "      <td>10</td>\n",
       "      <td>0.127900</td>\n",
       "    </tr>\n",
       "    <tr>\n",
       "      <th>440635</th>\n",
       "      <td>10</td>\n",
       "      <td>639384</td>\n",
       "      <td>10</td>\n",
       "      <td>10</td>\n",
       "      <td>0.064062</td>\n",
       "    </tr>\n",
       "    <tr>\n",
       "      <th>131294</th>\n",
       "      <td>10</td>\n",
       "      <td>639338</td>\n",
       "      <td>10</td>\n",
       "      <td>10</td>\n",
       "      <td>0.064066</td>\n",
       "    </tr>\n",
       "    <tr>\n",
       "      <th>361309</th>\n",
       "      <td>10</td>\n",
       "      <td>320236</td>\n",
       "      <td>10</td>\n",
       "      <td>10</td>\n",
       "      <td>0.127906</td>\n",
       "    </tr>\n",
       "    <tr>\n",
       "      <th>375646</th>\n",
       "      <td>10</td>\n",
       "      <td>639219</td>\n",
       "      <td>10</td>\n",
       "      <td>10</td>\n",
       "      <td>0.064078</td>\n",
       "    </tr>\n",
       "    <tr>\n",
       "      <th>120106</th>\n",
       "      <td>10</td>\n",
       "      <td>320089</td>\n",
       "      <td>10</td>\n",
       "      <td>10</td>\n",
       "      <td>0.127964</td>\n",
       "    </tr>\n",
       "    <tr>\n",
       "      <th>73841</th>\n",
       "      <td>10</td>\n",
       "      <td>320291</td>\n",
       "      <td>10</td>\n",
       "      <td>10</td>\n",
       "      <td>0.127884</td>\n",
       "    </tr>\n",
       "    <tr>\n",
       "      <th>187650</th>\n",
       "      <td>10</td>\n",
       "      <td>639386</td>\n",
       "      <td>10</td>\n",
       "      <td>10</td>\n",
       "      <td>0.064061</td>\n",
       "    </tr>\n",
       "    <tr>\n",
       "      <th>300538</th>\n",
       "      <td>10</td>\n",
       "      <td>320223</td>\n",
       "      <td>10</td>\n",
       "      <td>10</td>\n",
       "      <td>0.127911</td>\n",
       "    </tr>\n",
       "    <tr>\n",
       "      <th>35751</th>\n",
       "      <td>10</td>\n",
       "      <td>639329</td>\n",
       "      <td>10</td>\n",
       "      <td>10</td>\n",
       "      <td>0.064067</td>\n",
       "    </tr>\n",
       "    <tr>\n",
       "      <th>103253</th>\n",
       "      <td>10</td>\n",
       "      <td>639219</td>\n",
       "      <td>10</td>\n",
       "      <td>10</td>\n",
       "      <td>0.064078</td>\n",
       "    </tr>\n",
       "    <tr>\n",
       "      <th>411889</th>\n",
       "      <td>10</td>\n",
       "      <td>639337</td>\n",
       "      <td>10</td>\n",
       "      <td>10</td>\n",
       "      <td>0.064066</td>\n",
       "    </tr>\n",
       "    <tr>\n",
       "      <th>214216</th>\n",
       "      <td>10</td>\n",
       "      <td>639286</td>\n",
       "      <td>10</td>\n",
       "      <td>10</td>\n",
       "      <td>0.064071</td>\n",
       "    </tr>\n",
       "    <tr>\n",
       "      <th>290340</th>\n",
       "      <td>10</td>\n",
       "      <td>320195</td>\n",
       "      <td>10</td>\n",
       "      <td>10</td>\n",
       "      <td>0.127922</td>\n",
       "    </tr>\n",
       "    <tr>\n",
       "      <th>82798</th>\n",
       "      <td>10</td>\n",
       "      <td>320126</td>\n",
       "      <td>10</td>\n",
       "      <td>10</td>\n",
       "      <td>0.127950</td>\n",
       "    </tr>\n",
       "  </tbody>\n",
       "</table>\n",
       "</div>"
      ],
      "text/plain": [
       "        index  timestamp  seq  packet_count  rate_in_window\n",
       "230067     10     320285   10            10        0.127886\n",
       "132733     10     320407   10            10        0.127837\n",
       "148176     10     320227   10            10        0.127909\n",
       "462360     10     320204   10            10        0.127918\n",
       "167452     10     320237   10            10        0.127905\n",
       "213200     10     320400   10            10        0.127840\n",
       "434605     10     321510   10            10        0.127399\n",
       "160681     10     320364   10            10        0.127855\n",
       "398763     10     320254   10            10        0.127898\n",
       "414190     10     639406   10            10        0.064059\n",
       "175875     10     320257   10            10        0.127897\n",
       "173268     10     320210   10            10        0.127916\n",
       "41646      10     320313   10            10        0.127875\n",
       "301922     10     639380   10            10        0.064062\n",
       "413634     10     320267   10            10        0.127893\n",
       "91052      10     320251   10            10        0.127900\n",
       "440635     10     639384   10            10        0.064062\n",
       "131294     10     639338   10            10        0.064066\n",
       "361309     10     320236   10            10        0.127906\n",
       "375646     10     639219   10            10        0.064078\n",
       "120106     10     320089   10            10        0.127964\n",
       "73841      10     320291   10            10        0.127884\n",
       "187650     10     639386   10            10        0.064061\n",
       "300538     10     320223   10            10        0.127911\n",
       "35751      10     639329   10            10        0.064067\n",
       "103253     10     639219   10            10        0.064078\n",
       "411889     10     639337   10            10        0.064066\n",
       "214216     10     639286   10            10        0.064071\n",
       "290340     10     320195   10            10        0.127922\n",
       "82798      10     320126   10            10        0.127950"
      ]
     },
     "metadata": {},
     "output_type": "display_data"
    },
    {
     "data": {
      "text/plain": [
       "[<matplotlib.lines.Line2D at 0x7fef0a49a2e0>]"
      ]
     },
     "execution_count": 69,
     "metadata": {},
     "output_type": "execute_result"
    },
    {
     "data": {
      "image/png": "[encoded data removed]",
      "text/plain": [
       "<Figure size 1440x720 with 1 Axes>"
      ]
     },
     "metadata": {
      "needs_background": "light"
     },
     "output_type": "display_data"
    }
   ],
   "source": [
    "def local_rate(df, pkt_size=512*8):\n",
    "    df_1 = df.iloc[:-1,:].reset_index()\n",
    "    df_2 = df.iloc[1:,:].reset_index()\n",
    "    df_diff = df_2 - df_1\n",
    "    df_diff['rate_in_window'] = pkt_size * df_diff['packet_count'] / df_diff['timestamp']\n",
    "    return df_diff\n",
    "\n",
    "\n",
    "    \n",
    "def traffic_pattern(dataframe, window_size):\n",
    "    df_len = len(dataframe)\n",
    "    df_downsampled = dataframe.iloc[::window_size]\n",
    "    df_ds_rates = local_rate(df_downsampled)\n",
    "    df_ds_len = len(df_ds_rates)\n",
    "    res = random.sample(range(1, df_ds_len), 30)\n",
    "    display(df_ds_rates.loc[res])\n",
    "    return df_ds_rates\n",
    "\n",
    "    #for indx, row in dataframe.iterrows():\n",
    "    #    print(\"Progress rate: %.3f\" % (indx/df_len), end='\\r')\n",
    "df = traffic_pattern(df_100, 10)\n",
    "fig = plt.figure(figsize=(20,10))\n",
    "plt.plot(df['rate_in_window'],'.')\n"
   ]
  }
 ],
 "metadata": {
  "interpreter": {
   "hash": "97cc609b13305c559618ec78a438abc56230b9381f827f22d070313b9a1f3777"
  },
  "kernelspec": {
   "display_name": "Python 3.10.2 64-bit",
   "language": "python",
   "name": "python3"
  },
  "language_info": {
   "codemirror_mode": {
    "name": "ipython",
    "version": 3
   },
   "file_extension": ".py",
   "mimetype": "text/x-python",
   "name": "python",
   "nbconvert_exporter": "python",
   "pygments_lexer": "ipython3",
   "version": "3.8.10"
  },
  "orig_nbformat": 4
 },
 "nbformat": 4,
 "nbformat_minor": 2
}
